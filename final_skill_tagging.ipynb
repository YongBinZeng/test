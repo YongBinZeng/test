{
  "nbformat": 4,
  "nbformat_minor": 0,
  "metadata": {
    "colab": {
      "provenance": []
    },
    "kernelspec": {
      "name": "python3",
      "display_name": "Python 3"
    },
    "language_info": {
      "name": "python"
    }
  },
  "cells": [
    {
      "cell_type": "code",
      "source": [
        "!pip install simpletransformers"
      ],
      "metadata": {
        "id": "jvHJOqlW4zsR"
      },
      "execution_count": null,
      "outputs": []
    },
    {
      "cell_type": "code",
      "source": [
        "import pandas as pd\n",
        "from sklearn.preprocessing import LabelEncoder\n",
        "from sklearn.model_selection import train_test_split\n",
        "from sklearn.metrics import accuracy_score\n",
        "from simpletransformers.ner import NERModel,NERArgs"
      ],
      "metadata": {
        "id": "u6a-RlXu5zOI"
      },
      "execution_count": 15,
      "outputs": []
    },
    {
      "cell_type": "code",
      "source": [
        "data = pd.read_csv(\"cn_ner_dataset_bert_394.csv\",encoding=\"latin1\" )\n",
        "data =data.fillna(method =\"ffill\")\n",
        "data[\"Sentence #\"] = LabelEncoder().fit_transform(data[\"Sentence #\"] )\n",
        "data.rename(columns={\"Sentence #\":\"sentence_id\",\"Word\":\"words\",\"Tag\":\"labels\"}, inplace =True)\n",
        "data[\"labels\"] = data[\"labels\"].str.upper()"
      ],
      "metadata": {
        "id": "ady3bRmS5V8M"
      },
      "execution_count": 4,
      "outputs": []
    },
    {
      "cell_type": "code",
      "source": [
        "X= data[[\"sentence_id\",\"words\"]]\n",
        "Y =data[\"labels\"]\n",
        "\n",
        "x_train, x_test, y_train, y_test = train_test_split(X,Y, test_size =0.2)\n",
        "\n",
        "train_data = pd.DataFrame({\"sentence_id\":x_train[\"sentence_id\"],\"words\":x_train[\"words\"],\"labels\":y_train})\n",
        "test_data = pd.DataFrame({\"sentence_id\":x_test[\"sentence_id\"],\"words\":x_test[\"words\"],\"labels\":y_test})\n",
        "\n",
        "label = data[\"labels\"].unique().tolist()"
      ],
      "metadata": {
        "id": "aK8s9wZR6M7d"
      },
      "execution_count": 14,
      "outputs": []
    },
    {
      "cell_type": "code",
      "source": [
        "args = NERArgs()\n",
        "args.num_train_epochs = 5\n",
        "args.learning_rate = 1e-4\n",
        "args.overwrite_output_dir =True\n",
        "args.train_batch_size = 32\n",
        "args.eval_batch_size = 32"
      ],
      "metadata": {
        "id": "Ac5M47IR6TNS"
      },
      "execution_count": 17,
      "outputs": []
    },
    {
      "cell_type": "code",
      "source": [
        "model = NERModel('bert', 'bert-base-cased',labels=label,args =args,use_cuda=False)\n",
        "\n",
        "model.train_model(train_data,eval_data = test_data,acc=accuracy_score)\n",
        "\n",
        "result, model_outputs, preds_list = model.eval_model(test_data)"
      ],
      "metadata": {
        "id": "tNv4Cd436VjD"
      },
      "execution_count": null,
      "outputs": []
    },
    {
      "cell_type": "code",
      "source": [
        "def get_prediction(text):\n",
        "  prediction, model_output = model.predict([text])\n",
        "  return prediction"
      ],
      "metadata": {
        "id": "mt4wbHrj44G6"
      },
      "execution_count": 19,
      "outputs": []
    }
  ]
}